{
 "cells": [
  {
   "cell_type": "markdown",
   "metadata": {},
   "source": [
    "# 地理信息系统设计与开发（第二次课）"
   ]
  },
  {
   "cell_type": "code",
   "execution_count": 10,
   "metadata": {},
   "outputs": [],
   "source": [
    "import ogr\n",
    "import osr\n",
    "import json\n",
    "import requests\n",
    "import matplotlib.pyplot as plt\n",
    "%matplotlib inline"
   ]
  },
  {
   "cell_type": "code",
   "execution_count": 11,
   "metadata": {},
   "outputs": [],
   "source": [
    "url=\"http://127.0.0.1/all_month.json\""
   ]
  },
  {
   "cell_type": "code",
   "execution_count": 12,
   "metadata": {},
   "outputs": [
    {
     "name": "stdout",
     "output_type": "stream",
     "text": [
      "{'Content-Length': '10041290', 'Content-Type': 'application/json', 'Last-Modified': 'Tue, 12 May 2020 12:17:10 GMT', 'Accept-Ranges': 'bytes', 'ETag': '\"74ea42435728d61:0\"', 'Server': 'Microsoft-IIS/10.0', 'Date': 'Thu, 11 Jun 2020 07:04:02 GMT'}\n",
      "{\"type\":\"FeatureCollection\",\"metadata\":{\"generated\":1589285573000,\"url\":\"https://earthquake.usgs.gov/earthquakes/feed/v1.0/summary/all_month.geojson\",\"title\":\"USGS All Earthquakes, Past Month\",\"status\":200,\"api\":\"1.8.1\",\"count\":14011},\"features\":[{\"type\":\"Feature\",\"properties\":{\"mag\":2.27,\"place\":\"28km SE of Bodie, CA\",\"time\":1589285365660,\"updated\":1589285464488,\"tz\":-480,\"url\":\"https://earthquake.usgs.gov/earthquakes/eventpage/nc73383965\",\"detail\":\"https://earthquake.usgs.gov/earthquakes/feed/v1.0/detail/nc73383965.geojson\",\"felt\":null,\"cdi\":null,\"mmi\":null,\"alert\":null,\"status\":\"automatic\",\"tsunami\":0,\"sig\":79,\"net\":\"nc\",\"code\":\"73383965\",\"ids\":\",nc73383965,\",\"sources\":\",nc,\",\"types\":\",geoserve,nearby-cities,origin,phase-data,\",\"nst\":18,\"dmin\":0.3203,\"rms\":0.08,\"gap\":101,\"magType\":\"md\",\"type\":\"earthquake\",\"title\":\"M 2.3 - 28km SE of Bodie, CA\"},\"geometry\":{\"type\":\"Point\",\"coordinates\":[-118.7963333,38.027832,2.62]},\"id\":\"nc73383965\"},\r\n",
      "{\"type\":\"Feature\",\"properties\":{\"mag\":1.66,\"pla\n"
     ]
    }
   ],
   "source": [
    "try:\n",
    "    r = requests.get(url, timeout=30)\n",
    "    r.raise_for_status()\n",
    "    r.encoding = r.apparent_encoding\n",
    "    print(requests.head(url).headers)\n",
    "    print(r.text[0:1000])\n",
    " \n",
    "except:\n",
    "    print(\"error!\")"
   ]
  },
  {
   "cell_type": "markdown",
   "metadata": {},
   "source": [
    "# 通过ogr的GetDriverByName方法创建driver"
   ]
  },
  {
   "cell_type": "code",
   "execution_count": 16,
   "metadata": {},
   "outputs": [],
   "source": [
    "driver=ogr.GetDriverByName('ESRI Shapefile')"
   ]
  },
  {
   "cell_type": "markdown",
   "metadata": {},
   "source": [
    "## 通过driver的CreateDataSource方法创建datasource"
   ]
  },
  {
   "cell_type": "code",
   "execution_count": 19,
   "metadata": {},
   "outputs": [],
   "source": [
    "ds=driver.CreateDataSource('test3.shp')"
   ]
  },
  {
   "cell_type": "markdown",
   "metadata": {},
   "source": [
    "### 通过datasource的CreateLayer方法创建layer\n"
   ]
  },
  {
   "cell_type": "code",
   "execution_count": 20,
   "metadata": {},
   "outputs": [],
   "source": [
    "spatial_reference=osr.SpatialReference()\n",
    "spatial_reference.ImportFromEPSG(4326)\n",
    "layer=ds.CreateLayer('myEarthQuake',spatial_reference,geom_type=ogr.wkbPoint)"
   ]
  },
  {
   "cell_type": "markdown",
   "metadata": {},
   "source": [
    "#### 通过layer的CreateField方法创建属性表结构\n"
   ]
  },
  {
   "cell_type": "code",
   "execution_count": 23,
   "metadata": {},
   "outputs": [
    {
     "data": {
      "text/plain": [
       "0"
      ]
     },
     "execution_count": 23,
     "metadata": {},
     "output_type": "execute_result"
    }
   ],
   "source": [
    "layer.CreateField(ogr.FieldDefn('magnitude',ogr.OFTReal))\n",
    "layer.CreateField(ogr.FieldDefn('place',ogr.OFTString))\n",
    "layer.CreateField(ogr.FieldDefn('time',ogr.OFTReal))\n",
    "layer.CreateField(ogr.FieldDefn('id',ogr.OFTString))\n",
    "layer.CreateField(ogr.FieldDefn('longitude',ogr.OFTReal))\n",
    "layer.CreateField(ogr.FieldDefn('latitude',ogr.OFTReal))\n",
    "layer.CreateField(ogr.FieldDefn('depth',ogr.OFTReal))               "
   ]
  },
  {
   "cell_type": "markdown",
   "metadata": {},
   "source": [
    "##### 通过json获取相关数据\n",
    "##### 通过layer的GetlayerDefn方法获取feature的属性表结构\n",
    "##### 通过ogr创建新的feature\n",
    "##### 设定feature中的相关字段值\n",
    "##### 通过ogr的Geometry类创建point对象\n",
    "##### 通过point的AddPoint方法设定坐标位置\n",
    "##### 通过feature的SetGeometry方法将feature设定为新建的point\n",
    "##### 通过layer的CreateFeature方法将point feature添加到layer"
   ]
  },
  {
   "cell_type": "code",
   "execution_count": 26,
   "metadata": {},
   "outputs": [],
   "source": [
    "geojson=json.loads(r.text)\n",
    "features=geojson['features']\n",
    "for feat in features:\n",
    "    #get properties\n",
    "    properties=feat['properties']\n",
    "    magnitude=properties['mag']\n",
    "    place=properties['place']\n",
    "    time=properties['time']\n",
    "    id=properties['id']\n",
    "    geom=feat['geometry']\n",
    "    longitude=geom['coordinates'][0]\n",
    "    latitude=geom['coordinates'][1]\n",
    "    depth=geom['coordinates'][2]\n",
    "    #print(depth)\n",
    "    #set field\n",
    "    feature_defn=layer.GetLayerDefn()\n",
    "    feature=ogr.Feature(feature_defn)\n",
    "    feature.SetField('magnitude',magnitude)\n",
    "    feature.SetField('place',place)\n",
    "    feature.SetField('time',time)\n",
    "    feature.SetField('longitude',longitude)\n",
    "    feature.SetField('latitude',latitude)\n",
    "    feature.SetField('depth',depth)\n",
    "    #create point\n",
    "    point=ogr.Geometry(ogr.wkbPoint)\n",
    "    point.AddPoint(longitude,latitude)\n",
    "    feature.SetGeometry(point)\n",
    "    \n",
    "    layer.CreateFeature(feature)\n",
    "    \n",
    "    plt.plot(longitude,latitude,'o',markersize=5,color='k') \n",
    "    "
   ]
  },
  {
   "cell_type": "code",
   "execution_count": 28,
   "metadata": {},
   "outputs": [],
   "source": [
    "del ds"
   ]
  },
  {
   "cell_type": "code",
   "execution_count": null,
   "metadata": {},
   "outputs": [],
   "source": []
  }
 ],
 "metadata": {
  "kernelspec": {
   "display_name": "Python 3",
   "language": "python",
   "name": "python3"
  },
  "language_info": {
   "codemirror_mode": {
    "name": "ipython",
    "version": 3
   },
   "file_extension": ".py",
   "mimetype": "text/x-python",
   "name": "python",
   "nbconvert_exporter": "python",
   "pygments_lexer": "ipython3",
   "version": "3.7.0"
  }
 },
 "nbformat": 4,
 "nbformat_minor": 2
}
