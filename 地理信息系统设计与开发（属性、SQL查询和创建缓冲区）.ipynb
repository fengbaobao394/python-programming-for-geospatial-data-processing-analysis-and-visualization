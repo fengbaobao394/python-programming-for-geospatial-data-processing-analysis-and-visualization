{
 "cells": [
  {
   "cell_type": "markdown",
   "metadata": {},
   "source": [
    "# 地理信息系统设计与开发（属性、SQL查询和创建缓冲区）"
   ]
  },
  {
   "cell_type": "code",
   "execution_count": 1,
   "metadata": {},
   "outputs": [],
   "source": [
    "import os\n",
    "import ogr\n",
    "import osr\n",
    "import json\n",
    "import requests\n",
    "import matplotlib.pyplot as plt\n",
    "%matplotlib inline"
   ]
  },
  {
   "cell_type": "markdown",
   "metadata": {},
   "source": [
    "## 定义输入输出和缓冲区距离（由空间参考决定单位）"
   ]
  },
  {
   "cell_type": "code",
   "execution_count": 2,
   "metadata": {},
   "outputs": [],
   "source": [
    "inputfn = 'test3.shp'\n",
    "outputBufferfn = 'testBuffer3.shp'\n",
    "bufferDist = 5"
   ]
  },
  {
   "cell_type": "markdown",
   "metadata": {},
   "source": [
    "## 读入数据"
   ]
  },
  {
   "cell_type": "code",
   "execution_count": 3,
   "metadata": {},
   "outputs": [],
   "source": [
    "inputds = ogr.Open(inputfn)\n",
    "inputlyr = inputds.GetLayer()"
   ]
  },
  {
   "cell_type": "markdown",
   "metadata": {},
   "source": [
    "## 执行SQL查询（在datasource层面）"
   ]
  },
  {
   "cell_type": "code",
   "execution_count": 7,
   "metadata": {},
   "outputs": [
    {
     "name": "stdout",
     "output_type": "stream",
     "text": [
      "<osgeo.ogr.Layer; proxy of <Swig Object of type 'OGRLayerShadow *' at 0x000001E6C418D0C0> >\n"
     ]
    }
   ],
   "source": [
    "result = inputds.ExecuteSQL(\"select * from test3 where magnitude >= 6\")\n",
    "print(result)"
   ]
  },
  {
   "cell_type": "markdown",
   "metadata": {},
   "source": [
    "## 显示查询结果"
   ]
  },
  {
   "cell_type": "code",
   "execution_count": 8,
   "metadata": {},
   "outputs": [
    {
     "name": "stdout",
     "output_type": "stream",
     "text": [
      "186km E of Taron, Papua New Guinea\n",
      "205km NW of Saumlaki, Indonesia\n",
      "89km S of Ierapetra, Greece\n",
      "132km W of Panguna, Papua New Guinea\n",
      "25km SE of Ofunato, Japan\n",
      "206km W of Chichi-shima, Japan\n",
      "55km NNE of Savannah Bight, Honduras\n",
      "194km SE of Raoul Island, New Zealand\n"
     ]
    }
   ],
   "source": [
    "resultFeat = result.GetNextFeature()\n",
    "while resultFeat :\n",
    "   print(resultFeat.GetField('place')) \n",
    "   resultFeat = result.GetNextFeature()"
   ]
  },
  {
   "cell_type": "markdown",
   "metadata": {},
   "source": [
    "## 执行属性查询（在layer层面）"
   ]
  },
  {
   "cell_type": "code",
   "execution_count": 18,
   "metadata": {},
   "outputs": [],
   "source": [
    "inputlyr.SetAttributeFilter(\"magnitude >= 6\")\n",
    "result=inputlyr"
   ]
  },
  {
   "cell_type": "markdown",
   "metadata": {},
   "source": [
    "## 显示查询结果"
   ]
  },
  {
   "cell_type": "code",
   "execution_count": 19,
   "metadata": {},
   "outputs": [
    {
     "name": "stdout",
     "output_type": "stream",
     "text": [
      "186km E of Taron, Papua New Guinea\n",
      "205km NW of Saumlaki, Indonesia\n",
      "89km S of Ierapetra, Greece\n",
      "132km W of Panguna, Papua New Guinea\n",
      "25km SE of Ofunato, Japan\n",
      "206km W of Chichi-shima, Japan\n",
      "55km NNE of Savannah Bight, Honduras\n",
      "194km SE of Raoul Island, New Zealand\n"
     ]
    }
   ],
   "source": [
    "resultFeat = result.GetNextFeature()\n",
    "while resultFeat :\n",
    "   print(resultFeat.GetField('place')) \n",
    "   resultFeat = result.GetNextFeature()"
   ]
  },
  {
   "cell_type": "markdown",
   "metadata": {},
   "source": [
    "## 创建输出文件"
   ]
  },
  {
   "cell_type": "code",
   "execution_count": 20,
   "metadata": {},
   "outputs": [],
   "source": [
    "shpdriver = ogr.GetDriverByName('ESRI Shapefile')\n",
    "if os.path.exists(outputBufferfn):\n",
    "    shpdriver.DeleteDataSource(outputBufferfn)\n",
    "outputBufferds = shpdriver.CreateDataSource(outputBufferfn)\n",
    "targetSR = osr.SpatialReference()\n",
    "targetSR.ImportFromEPSG(4326) #Geo WGS84\n",
    "bufferlyr = outputBufferds.CreateLayer(outputBufferfn,targetSR,geom_type=ogr.wkbPolygon)\n",
    "featureDefn = bufferlyr.GetLayerDefn()"
   ]
  },
  {
   "cell_type": "markdown",
   "metadata": {},
   "source": [
    "## 对查询结果建立缓冲区并输出到文件"
   ]
  },
  {
   "cell_type": "code",
   "execution_count": 21,
   "metadata": {},
   "outputs": [],
   "source": [
    "for feature in inputlyr:\n",
    "    ingeom = feature.GetGeometryRef()\n",
    "    geomBuffer = ingeom.Buffer(bufferDist)\n",
    "\n",
    "    outFeature = ogr.Feature(featureDefn)\n",
    "    outFeature.SetGeometry(geomBuffer)\n",
    "    bufferlyr.CreateFeature(outFeature)\n",
    "    outFeature = None"
   ]
  },
  {
   "cell_type": "code",
   "execution_count": 22,
   "metadata": {},
   "outputs": [],
   "source": [
    "outputBufferds=None"
   ]
  },
  {
   "cell_type": "code",
   "execution_count": null,
   "metadata": {},
   "outputs": [],
   "source": []
  }
 ],
 "metadata": {
  "kernelspec": {
   "display_name": "Python 3",
   "language": "python",
   "name": "python3"
  },
  "language_info": {
   "codemirror_mode": {
    "name": "ipython",
    "version": 3
   },
   "file_extension": ".py",
   "mimetype": "text/x-python",
   "name": "python",
   "nbconvert_exporter": "python",
   "pygments_lexer": "ipython3",
   "version": "3.7.0"
  }
 },
 "nbformat": 4,
 "nbformat_minor": 2
}
