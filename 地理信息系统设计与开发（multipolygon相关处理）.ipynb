{
 "cells": [
  {
   "cell_type": "markdown",
   "metadata": {},
   "source": [
    "# 地理信息系统设计与开发（multipolygon相关处理）"
   ]
  },
  {
   "cell_type": "code",
   "execution_count": 1,
   "metadata": {},
   "outputs": [],
   "source": [
    "import os\n",
    "import ogr\n",
    "import osr\n",
    "import json\n",
    "import requests\n",
    "import matplotlib.pyplot as plt\n",
    "%matplotlib inline"
   ]
  },
  {
   "cell_type": "markdown",
   "metadata": {},
   "source": [
    "## 显示multipolygon"
   ]
  },
  {
   "cell_type": "code",
   "execution_count": 2,
   "metadata": {},
   "outputs": [],
   "source": [
    "def myDisplayMultiPolygon(myMultipolygon):\n",
    "    for i in range(myMultipolygon.GetGeometryCount()):\n",
    "        ring=myMultipolygon.GetGeometryRef(i)\n",
    "        #print('ring:',ring)\n",
    "        subring=ring.GetGeometryRef(0) \n",
    "        #print(\"subring:\",subring)   \n",
    "        coords=subring.GetPoints()\n",
    "        #print(\"coords:\",coords)\n",
    "        x,y=zip(*coords)\n",
    "        #print(\"x=\",x,\"y=\",y)\n",
    "        plt.plot(x,y,'black')\n",
    "        plt.fill(x,y,'p')"
   ]
  },
  {
   "cell_type": "markdown",
   "metadata": {},
   "source": [
    "## 自适应显示polygon和multipolygon"
   ]
  },
  {
   "cell_type": "code",
   "execution_count": 3,
   "metadata": {},
   "outputs": [],
   "source": [
    "def myDisplayPolygon(lyr):\n",
    "    for row in lyr:\n",
    "        print(\"row:\",row)\n",
    "        geom=row.geometry()\n",
    "        print('geom:',geom.GetGeometryName(), 'count:',geom.GetGeometryCount())\n",
    "        print(\"geom=\",geom)\n",
    "\n",
    "        if(geom.GetGeometryName() == 'MULTIPOLYGON'):\n",
    "            for i in range(geom.GetGeometryCount()):\n",
    "                ring=geom.GetGeometryRef(i)\n",
    "                print('ring:',ring)\n",
    "                subring=ring.GetGeometryRef(0) \n",
    "                print(\"subring:\",subring)   \n",
    "                coords=subring.GetPoints()\n",
    "                print(\"coords:\",coords)\n",
    "                x,y=zip(*coords)\n",
    "                #print(\"x=\",x,\"y=\",y)\n",
    "                plt.plot(x,y,'black')\n",
    "                plt.fill(x,y,'p')\n",
    "        else:\n",
    "            ring=geom.GetGeometryRef(0)\n",
    "            print(\"ring:\",ring)\n",
    "            coords=ring.GetPoints()\n",
    "            print(\"coords:\",coords)\n",
    "            x,y=zip(*coords)\n",
    "        #print(\"x=\",x,\"y=\",y)\n",
    "        plt.plot(x,y,'black')\n",
    "        plt.fill(x,y,'p')"
   ]
  },
  {
   "cell_type": "code",
   "execution_count": 4,
   "metadata": {},
   "outputs": [],
   "source": [
    "def getChinaGeojson():\n",
    "    ds=ogr.Open('china.json')\n",
    "    lyr=ds.GetLayer()\n",
    "    print(lyr.GetFeatureCount())\n",
    "    myDisplayPolygon(lyr)"
   ]
  },
  {
   "cell_type": "markdown",
   "metadata": {},
   "source": [
    "## 由Geojson创建Multipolygon"
   ]
  },
  {
   "cell_type": "code",
   "execution_count": 6,
   "metadata": {},
   "outputs": [],
   "source": [
    "def createMultiPolygonFromPloygonJson():\n",
    "    myMultipolygon = ogr.Geometry(ogr.wkbMultiPolygon)\n",
    "    ds=ogr.Open('yunnan.json')\n",
    "    lyr=ds.GetLayer()\n",
    "    for feature in lyr:\n",
    "        geom=feature.geometry()\n",
    "        myMultipolygon.AddGeometry(geom)\n",
    "    print(myMultipolygon.ExportToWkt())\n",
    "    return myMultipolygon"
   ]
  },
  {
   "cell_type": "markdown",
   "metadata": {},
   "source": [
    "## 由Geojson创建shp"
   ]
  },
  {
   "cell_type": "code",
   "execution_count": null,
   "metadata": {},
   "outputs": [],
   "source": [
    "def createPolygonShpFromPloygonJson():\n",
    "    shpdriver = ogr.GetDriverByName('ESRI Shapefile')\n",
    "    outputfn='yunnan.shp'\n",
    "    if os.path.exists(outputfn):\n",
    "        shpdriver.DeleteDataSource(outputfn)\n",
    "    outputds = shpdriver.CreateDataSource(outputfn)\n",
    "    targetSR = osr.SpatialReference()\n",
    "    targetSR.ImportFromEPSG(4326) #Geo WGS84\n",
    "    outlyr = outputds.CreateLayer(outputfn,targetSR,geom_type=ogr.wkbPolygon)\n",
    "    featureDefn = outlyr.GetLayerDefn()\n",
    "    ds=ogr.Open('yunnan.json')\n",
    "    lyr=ds.GetLayer()\n",
    "    for feature in lyr:\n",
    "        geom=feature.geometry()\n",
    "        #print(geom)\n",
    "        outFeature = ogr.Feature(featureDefn)\n",
    "        outFeature.SetGeometry(geom)\n",
    "        #print(\"outFeature:\",outFeature.geometry())\n",
    "        outlyr.CreateFeature(outFeature)\n",
    "        outFeature = None \n",
    "\n",
    "    ds=None    \n",
    "    outputds = None   "
   ]
  },
  {
   "cell_type": "markdown",
   "metadata": {},
   "source": [
    "## 由Geojson自适应创建Multipolygon"
   ]
  },
  {
   "cell_type": "code",
   "execution_count": 7,
   "metadata": {},
   "outputs": [],
   "source": [
    "def createMultiPolygonFromMultiPolygonJson():\n",
    "    myMultipolygon = ogr.Geometry(ogr.wkbMultiPolygon)\n",
    "    ds=ogr.Open('china.json')\n",
    "    lyr=ds.GetLayer() \n",
    "    for feature in lyr:\n",
    "        geom=feature.geometry()\n",
    "        if(geom.GetGeometryName() == 'MULTIPOLYGON'):\n",
    "            for i in range(geom.GetGeometryCount()):\n",
    "                ring=geom.GetGeometryRef(i)\n",
    "                #print('ring:',ring)\n",
    "                myMultipolygon.AddGeometry(ring)\n",
    "        else:\n",
    "            myMultipolygon.AddGeometry(geom)\n",
    "    return myMultipolygon "
   ]
  },
  {
   "cell_type": "code",
   "execution_count": 8,
   "metadata": {},
   "outputs": [],
   "source": [
    "def spatialFilterTest(inputfn):\n",
    "    inputds = ogr.Open(inputfn)\n",
    "    inputlyr = inputds.GetLayer()\n",
    "    myMultiPolygon=createMultiPolygonFromMultiPolygonJson()\n",
    "    print(myMultiPolygon.GetGeometryCount())\n",
    "    print(\"before filter:\",inputlyr.GetFeatureCount())\n",
    "    inputlyr.SetSpatialFilter(myMultiPolygon)\n",
    "    print(\"after filter:\",inputlyr.GetFeatureCount())\n",
    "    myDisplayMultiPolygon(myMultiPolygon)\n",
    "\n",
    "    for feature in inputlyr:\n",
    "        geom=feature.geometry()\n",
    "        x=geom.GetX()\n",
    "        y=geom.GetY()\n",
    "        plt.plot(x,y,'o',markersize=5,color='k')\n",
    "        plt.text(x,y,feature.GetField('magnitude'))\n",
    "\n",
    "    return inputlyr"
   ]
  },
  {
   "cell_type": "code",
   "execution_count": 9,
   "metadata": {},
   "outputs": [],
   "source": [
    "def spatialFilter(inputlyr):\n",
    "    myMultiPolygon=createMultiPolygonFromMultiPolygonJson()\n",
    "    print(myMultiPolygon.GetGeometryCount())\n",
    "    print(\"before filter:\",inputlyr.GetFeatureCount())\n",
    "    inputlyr.SetSpatialFilter(myMultiPolygon)\n",
    "    print(\"after filter:\",inputlyr.GetFeatureCount())\n",
    "\n",
    "    return inputlyr"
   ]
  },
  {
   "cell_type": "code",
   "execution_count": 10,
   "metadata": {},
   "outputs": [],
   "source": [
    "def createMultipolygonShp():\n",
    "    myMultiPolygon=createMultiPolygonFromMultiPolygonJson()\n",
    "    shpdriver = ogr.GetDriverByName('ESRI Shapefile')\n",
    "    outputfn='china.shp'\n",
    "    if os.path.exists(outputfn):\n",
    "        shpdriver.DeleteDataSource(outputfn)\n",
    "    outputds = shpdriver.CreateDataSource(outputfn)\n",
    "    targetSR = osr.SpatialReference()\n",
    "    targetSR.ImportFromEPSG(4326) #Geo WGS84\n",
    "    lyr = outputds.CreateLayer(outputfn,targetSR,geom_type=ogr.wkbMultiPolygon)\n",
    "    featureDefn = lyr.GetLayerDefn()\n",
    "\n",
    "    outFeature = ogr.Feature(featureDefn)\n",
    "    outFeature.SetGeometry(myMultiPolygon)\n",
    "    lyr.CreateFeature(outFeature)\n",
    "    outFeature = None \n",
    "    outputds = None "
   ]
  },
  {
   "cell_type": "code",
   "execution_count": 11,
   "metadata": {},
   "outputs": [],
   "source": [
    "def reprojectShpFile(filename):\n",
    "    #不能对multipolygon直接投影，只能对polygon进行投影，\n",
    "    #multipolygon只能拆解为polygon后投影才会正确\n",
    "    driver = ogr.GetDriverByName('ESRI Shapefile')\n",
    "\n",
    "    # input SpatialReference\n",
    "    inSpatialRef = osr.SpatialReference()\n",
    "    inSpatialRef.ImportFromEPSG(4326)\n",
    "\n",
    "    # output SpatialReference\n",
    "    outSpatialRef = osr.SpatialReference()\n",
    "    outSpatialRef.ImportFromEPSG(32648)\n",
    "\n",
    "    # create the CoordinateTransformation\n",
    "    coordTrans = osr.CoordinateTransformation(inSpatialRef, outSpatialRef)\n",
    "\n",
    "    # get the input layer\n",
    "    inDataSet = driver.Open(filename)\n",
    "    inLayer = inDataSet.GetLayer()\n",
    "\n",
    "    # create the output layer\n",
    "    outputShapefile = 'china_32648.shp'\n",
    "    if os.path.exists(outputShapefile):\n",
    "        driver.DeleteDataSource(outputShapefile)\n",
    "    outDataSet = driver.CreateDataSource(outputShapefile)\n",
    "    outLayer = outDataSet.CreateLayer(\"china_32648\", outSpatialRef, geom_type=ogr.wkbMultiPolygon)\n",
    "\n",
    "    # add fields\n",
    "    inLayerDefn = inLayer.GetLayerDefn()\n",
    "    for i in range(0, inLayerDefn.GetFieldCount()):\n",
    "        fieldDefn = inLayerDefn.GetFieldDefn(i)\n",
    "        outLayer.CreateField(fieldDefn)\n",
    "\n",
    "    # get the output layer's feature definition\n",
    "    outLayerDefn = outLayer.GetLayerDefn()\n",
    "\n",
    "    # loop through the input features\n",
    "    inFeature = inLayer.GetNextFeature()\n",
    "    while inFeature:\n",
    "        # get the input geometry\n",
    "        geom = inFeature.GetGeometryRef()\n",
    "        print(\"geom old:\",geom)\n",
    "        spatialRef = geom.GetSpatialReference()\n",
    "        print(spatialRef)\n",
    "        # reproject the geometry\n",
    "        geom.Transform(coordTrans)\n",
    "        print(\"geom new:\",geom)\n",
    "        spatialRef = geom.GetSpatialReference()\n",
    "        print(spatialRef)\n",
    "\n",
    "        # create a new feature\n",
    "        outFeature = ogr.Feature(outLayerDefn)\n",
    "        # set the geometry and attribute\n",
    "        outFeature.SetGeometry(geom)\n",
    "\n",
    "        #outFeature.GetGeometryRef().Transform(coordTrans)\n",
    "\n",
    "        for i in range(0, outLayerDefn.GetFieldCount()):\n",
    "            outFeature.SetField(outLayerDefn.GetFieldDefn(i).GetNameRef(), inFeature.GetField(i))\n",
    "        # add the feature to the shapefile\n",
    "        outLayer.CreateFeature(outFeature)\n",
    "        # dereference the features and get the next input feature\n",
    "        outFeature = None\n",
    "        inFeature = inLayer.GetNextFeature()\n",
    "\n",
    "    # Save and close the shapefiles\n",
    "    inDataSet = None\n",
    "    outDataSet = None\n",
    "\n",
    "    # outSpatialRef.MorphToESRI()\n",
    "    # file = open('china_2927.prj', 'w')\n",
    "    # file.write(outSpatialRef.ExportToWkt())\n",
    "    # file.close()"
   ]
  },
  {
   "cell_type": "code",
   "execution_count": 12,
   "metadata": {},
   "outputs": [],
   "source": [
    "def createBuffer(inputfn, outputBufferfn, bufferDist):\n",
    "    inputds = ogr.Open(inputfn)\n",
    "    inputlyr = inputds.GetLayer()\n",
    "\n",
    "    shpdriver = ogr.GetDriverByName('ESRI Shapefile')\n",
    "    if os.path.exists(outputBufferfn):\n",
    "        shpdriver.DeleteDataSource(outputBufferfn)\n",
    "    outputBufferds = shpdriver.CreateDataSource(outputBufferfn)\n",
    "    targetSR = osr.SpatialReference()\n",
    "    targetSR.ImportFromEPSG(4326) #Geo WGS84\n",
    "    bufferlyr = outputBufferds.CreateLayer(outputBufferfn,targetSR,geom_type=ogr.wkbPolygon)\n",
    "    featureDefn = bufferlyr.GetLayerDefn()\n",
    "\n",
    "    # result = inputds.ExecuteSQL(\"select * from test3 where magnitude >= 6\")\n",
    "    # inputlyr.SetAttributeFilter(\"magnitude >= 6\")\n",
    "    # result=inputlyr\n",
    "    result = spatialFilter(inputlyr)\n",
    "\n",
    "    resultFeat = result.GetNextFeature()\n",
    "    while resultFeat :\n",
    "       print(resultFeat.GetField('place')) \n",
    "       resultFeat = result.GetNextFeature()\n",
    "\n",
    "    for feature in inputlyr:\n",
    "        ingeom = feature.GetGeometryRef()\n",
    "        geomBuffer = ingeom.Buffer(bufferDist)\n",
    "\n",
    "        outFeature = ogr.Feature(featureDefn)\n",
    "        outFeature.SetGeometry(geomBuffer)\n",
    "        bufferlyr.CreateFeature(outFeature)\n",
    "        outFeature = None"
   ]
  },
  {
   "cell_type": "code",
   "execution_count": null,
   "metadata": {},
   "outputs": [],
   "source": []
  }
 ],
 "metadata": {
  "kernelspec": {
   "display_name": "Python 3",
   "language": "python",
   "name": "python3"
  },
  "language_info": {
   "codemirror_mode": {
    "name": "ipython",
    "version": 3
   },
   "file_extension": ".py",
   "mimetype": "text/x-python",
   "name": "python",
   "nbconvert_exporter": "python",
   "pygments_lexer": "ipython3",
   "version": "3.7.0"
  }
 },
 "nbformat": 4,
 "nbformat_minor": 2
}
