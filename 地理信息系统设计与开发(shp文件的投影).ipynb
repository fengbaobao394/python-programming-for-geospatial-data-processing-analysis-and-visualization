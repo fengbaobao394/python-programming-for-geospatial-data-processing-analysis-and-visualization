{
 "cells": [
  {
   "cell_type": "markdown",
   "metadata": {},
   "source": [
    "# 地理信息系统设计与开发(shp文件的投影)"
   ]
  },
  {
   "cell_type": "code",
   "execution_count": 18,
   "metadata": {},
   "outputs": [],
   "source": [
    "import os\n",
    "import ogr\n",
    "import osr\n",
    "import json\n",
    "import requests\n",
    "import matplotlib.pyplot as plt\n",
    "%matplotlib inline"
   ]
  },
  {
   "cell_type": "markdown",
   "metadata": {},
   "source": [
    "## 读入一个数据\n",
    "## 获取这个数据的空间参考\n",
    "## 设定要转换的坐标系统\n",
    "## 获取坐标系统之间的转换参数\n",
    "## 新建一个图层用于保存坐标转换后的数据\n",
    "## 读取出数据中的每一个feature，通过geometry的Transform进行坐标转换\n",
    "## 将转换后的结果写入新的图层"
   ]
  },
  {
   "cell_type": "code",
   "execution_count": 19,
   "metadata": {},
   "outputs": [],
   "source": [
    "driver=ogr.GetDriverByName('ESRI Shapefile')\n",
    "dataSource=driver.Open('yunnan.shp')\n",
    "inputLayer=dataSource.GetLayer()"
   ]
  },
  {
   "cell_type": "code",
   "execution_count": 20,
   "metadata": {},
   "outputs": [
    {
     "name": "stdout",
     "output_type": "stream",
     "text": [
      "GEOGCS[\"WGS 84\",\n",
      "    DATUM[\"WGS_1984\",\n",
      "        SPHEROID[\"WGS 84\",6378137,298.257223563,\n",
      "            AUTHORITY[\"EPSG\",\"7030\"]],\n",
      "        AUTHORITY[\"EPSG\",\"6326\"]],\n",
      "    PRIMEM[\"Greenwich\",0,\n",
      "        AUTHORITY[\"EPSG\",\"8901\"]],\n",
      "    UNIT[\"degree\",0.0174532925199433,\n",
      "        AUTHORITY[\"EPSG\",\"9122\"]],\n",
      "    AXIS[\"Latitude\",NORTH],\n",
      "    AXIS[\"Longitude\",EAST],\n",
      "    AUTHORITY[\"EPSG\",\"4326\"]]\n"
     ]
    }
   ],
   "source": [
    "inSpatialRef=inputLayer.GetSpatialRef()\n",
    "print(inSpatialRef)"
   ]
  },
  {
   "cell_type": "code",
   "execution_count": 21,
   "metadata": {},
   "outputs": [
    {
     "name": "stdout",
     "output_type": "stream",
     "text": [
      "PROJCS[\"WGS 84 / UTM zone 48N\",\n",
      "    GEOGCS[\"WGS 84\",\n",
      "        DATUM[\"WGS_1984\",\n",
      "            SPHEROID[\"WGS 84\",6378137,298.257223563,\n",
      "                AUTHORITY[\"EPSG\",\"7030\"]],\n",
      "            AUTHORITY[\"EPSG\",\"6326\"]],\n",
      "        PRIMEM[\"Greenwich\",0,\n",
      "            AUTHORITY[\"EPSG\",\"8901\"]],\n",
      "        UNIT[\"degree\",0.0174532925199433,\n",
      "            AUTHORITY[\"EPSG\",\"9122\"]],\n",
      "        AUTHORITY[\"EPSG\",\"4326\"]],\n",
      "    PROJECTION[\"Transverse_Mercator\"],\n",
      "    PARAMETER[\"latitude_of_origin\",0],\n",
      "    PARAMETER[\"central_meridian\",105],\n",
      "    PARAMETER[\"scale_factor\",0.9996],\n",
      "    PARAMETER[\"false_easting\",500000],\n",
      "    PARAMETER[\"false_northing\",0],\n",
      "    UNIT[\"metre\",1,\n",
      "        AUTHORITY[\"EPSG\",\"9001\"]],\n",
      "    AXIS[\"Easting\",EAST],\n",
      "    AXIS[\"Northing\",NORTH],\n",
      "    AUTHORITY[\"EPSG\",\"32648\"]]\n"
     ]
    }
   ],
   "source": [
    "outSpatialRef=osr.SpatialReference()\n",
    "outSpatialRef.ImportFromEPSG(32648)\n",
    "print(outSpatialRef)"
   ]
  },
  {
   "cell_type": "code",
   "execution_count": 22,
   "metadata": {},
   "outputs": [
    {
     "name": "stdout",
     "output_type": "stream",
     "text": [
      "<osgeo.osr.CoordinateTransformation; proxy of <Swig Object of type 'OSRCoordinateTransformationShadow *' at 0x000002745F6E3030> >\n"
     ]
    }
   ],
   "source": [
    "transform=osr.CoordinateTransformation(inSpatialRef,outSpatialRef)\n",
    "print(transform)"
   ]
  },
  {
   "cell_type": "code",
   "execution_count": 23,
   "metadata": {},
   "outputs": [],
   "source": [
    "outFileName='myReprojectShp1.shp'\n",
    "if os.path.exists(outFileName):\n",
    "    driver.DeleteDataSource(outFileName)\n",
    "outDataSource=driver.CreateDataSource(outFileName)\n",
    "outLayer = outDataSource.CreateLayer(\"yunnan_32648\", outSpatialRef, geom_type=ogr.wkbPolygon)"
   ]
  },
  {
   "cell_type": "code",
   "execution_count": 24,
   "metadata": {},
   "outputs": [],
   "source": [
    "inFeatureDefn = inputLayer.GetLayerDefn()"
   ]
  },
  {
   "cell_type": "code",
   "execution_count": 26,
   "metadata": {
    "scrolled": false
   },
   "outputs": [],
   "source": [
    "for feat in inputLayer:\n",
    "    geom=feat.geometry()\n",
    "    #print(\"old geom:\",geom)\n",
    "    geom.Transform(transform)\n",
    "    #print(\"new geom:\",geom)\n",
    "    \n",
    "    feature=ogr.Feature(inFeatureDefn)\n",
    "    feature.SetGeometry(geom)\n",
    "    outLayer.CreateFeature(feature)\n",
    "    \n",
    "    feature=None\n",
    "    \n",
    "dataSource=None\n",
    "outDataSource=None"
   ]
  },
  {
   "cell_type": "code",
   "execution_count": null,
   "metadata": {},
   "outputs": [],
   "source": []
  }
 ],
 "metadata": {
  "kernelspec": {
   "display_name": "Python 3",
   "language": "python",
   "name": "python3"
  },
  "language_info": {
   "codemirror_mode": {
    "name": "ipython",
    "version": 3
   },
   "file_extension": ".py",
   "mimetype": "text/x-python",
   "name": "python",
   "nbconvert_exporter": "python",
   "pygments_lexer": "ipython3",
   "version": "3.7.0"
  }
 },
 "nbformat": 4,
 "nbformat_minor": 2
}
